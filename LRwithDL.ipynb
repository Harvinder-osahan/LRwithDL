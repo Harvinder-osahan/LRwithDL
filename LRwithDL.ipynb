{
 "cells": [
  {
   "cell_type": "code",
   "execution_count": 1,
   "metadata": {},
   "outputs": [],
   "source": [
    "import pandas as pd"
   ]
  },
  {
   "cell_type": "code",
   "execution_count": 3,
   "metadata": {},
   "outputs": [],
   "source": [
    "import numpy as np"
   ]
  },
  {
   "cell_type": "code",
   "execution_count": 4,
   "metadata": {},
   "outputs": [],
   "source": [
    "import tensorflow as tf"
   ]
  },
  {
   "cell_type": "code",
   "execution_count": 7,
   "metadata": {},
   "outputs": [],
   "source": [
    "dataset = pd.read_csv('weight-height.csv')"
   ]
  },
  {
   "cell_type": "code",
   "execution_count": 8,
   "metadata": {},
   "outputs": [
    {
     "data": {
      "text/plain": [
       "<bound method DataFrame.info of       Gender     Height      Weight\n",
       "0       Male  73.847017  241.893563\n",
       "1       Male  68.781904  162.310473\n",
       "2       Male  74.110105  212.740856\n",
       "3       Male  71.730978  220.042470\n",
       "4       Male  69.881796  206.349801\n",
       "...      ...        ...         ...\n",
       "9995  Female  66.172652  136.777454\n",
       "9996  Female  67.067155  170.867906\n",
       "9997  Female  63.867992  128.475319\n",
       "9998  Female  69.034243  163.852461\n",
       "9999  Female  61.944246  113.649103\n",
       "\n",
       "[10000 rows x 3 columns]>"
      ]
     },
     "execution_count": 8,
     "metadata": {},
     "output_type": "execute_result"
    }
   ],
   "source": [
    "dataset.info\n"
   ]
  },
  {
   "cell_type": "code",
   "execution_count": 9,
   "metadata": {},
   "outputs": [
    {
     "data": {
      "text/plain": [
       "<bound method NDFrame.head of       Gender     Height      Weight\n",
       "0       Male  73.847017  241.893563\n",
       "1       Male  68.781904  162.310473\n",
       "2       Male  74.110105  212.740856\n",
       "3       Male  71.730978  220.042470\n",
       "4       Male  69.881796  206.349801\n",
       "...      ...        ...         ...\n",
       "9995  Female  66.172652  136.777454\n",
       "9996  Female  67.067155  170.867906\n",
       "9997  Female  63.867992  128.475319\n",
       "9998  Female  69.034243  163.852461\n",
       "9999  Female  61.944246  113.649103\n",
       "\n",
       "[10000 rows x 3 columns]>"
      ]
     },
     "execution_count": 9,
     "metadata": {},
     "output_type": "execute_result"
    }
   ],
   "source": [
    "dataset.head\n"
   ]
  },
  {
   "cell_type": "code",
   "execution_count": 10,
   "metadata": {},
   "outputs": [
    {
     "data": {
      "text/plain": [
       "Index(['Gender', 'Height', 'Weight'], dtype='object')"
      ]
     },
     "execution_count": 10,
     "metadata": {},
     "output_type": "execute_result"
    }
   ],
   "source": [
    "dataset.columns\n"
   ]
  },
  {
   "cell_type": "code",
   "execution_count": 11,
   "metadata": {},
   "outputs": [],
   "source": [
    "y = dataset['Height']"
   ]
  },
  {
   "cell_type": "code",
   "execution_count": 13,
   "metadata": {},
   "outputs": [],
   "source": [
    "X = dataset['Weight']"
   ]
  },
  {
   "cell_type": "code",
   "execution_count": 17,
   "metadata": {},
   "outputs": [],
   "source": [
    "from keras.models import Sequential "
   ]
  },
  {
   "cell_type": "code",
   "execution_count": 18,
   "metadata": {},
   "outputs": [],
   "source": [
    "from keras.layers import Dense"
   ]
  },
  {
   "cell_type": "code",
   "execution_count": 19,
   "metadata": {},
   "outputs": [],
   "source": [
    "from keras.optimizers import Adam"
   ]
  },
  {
   "cell_type": "code",
   "execution_count": 20,
   "metadata": {},
   "outputs": [],
   "source": [
    "Height_Predictor = Sequential()"
   ]
  },
  {
   "cell_type": "code",
   "execution_count": 24,
   "metadata": {},
   "outputs": [],
   "source": [
    "Height_Predictor.add(Dense(units=1 , input_shape=(1,) ))"
   ]
  },
  {
   "cell_type": "code",
   "execution_count": 28,
   "metadata": {},
   "outputs": [],
   "source": [
    "Height_Predictor.compile(loss='mean_squared_error' , optimizer = Adam(learning_rate = 2.0))"
   ]
  },
  {
   "cell_type": "code",
   "execution_count": 30,
   "metadata": {},
   "outputs": [
    {
     "name": "stdout",
     "output_type": "stream",
     "text": [
      "Epoch 1/20\n",
      "10000/10000 [==============================] - 0s 18us/step - loss: 12.8575\n",
      "Epoch 2/20\n",
      "10000/10000 [==============================] - 0s 17us/step - loss: 94.9857\n",
      "Epoch 3/20\n",
      "10000/10000 [==============================] - 0s 17us/step - loss: 102.5234\n",
      "Epoch 4/20\n",
      "10000/10000 [==============================] - 0s 17us/step - loss: 134.2633\n",
      "Epoch 5/20\n",
      "10000/10000 [==============================] - 0s 16us/step - loss: 45.5346\n",
      "Epoch 6/20\n",
      "10000/10000 [==============================] - 0s 18us/step - loss: 98.2377\n",
      "Epoch 7/20\n",
      "10000/10000 [==============================] - 0s 18us/step - loss: 73.6071\n",
      "Epoch 8/20\n",
      "10000/10000 [==============================] - 0s 17us/step - loss: 97.1219\n",
      "Epoch 9/20\n",
      "10000/10000 [==============================] - 0s 17us/step - loss: 101.3351\n",
      "Epoch 10/20\n",
      "10000/10000 [==============================] - 0s 17us/step - loss: 73.3279\n",
      "Epoch 11/20\n",
      "10000/10000 [==============================] - 0s 18us/step - loss: 207.3949\n",
      "Epoch 12/20\n",
      "10000/10000 [==============================] - 0s 19us/step - loss: 19.3697\n",
      "Epoch 13/20\n",
      "10000/10000 [==============================] - 0s 17us/step - loss: 122.3933\n",
      "Epoch 14/20\n",
      "10000/10000 [==============================] - 0s 16us/step - loss: 66.8471\n",
      "Epoch 15/20\n",
      "10000/10000 [==============================] - 0s 16us/step - loss: 107.3622\n",
      "Epoch 16/20\n",
      "10000/10000 [==============================] - 0s 16us/step - loss: 179.9235\n",
      "Epoch 17/20\n",
      "10000/10000 [==============================] - 0s 18us/step - loss: 84.2139\n",
      "Epoch 18/20\n",
      "10000/10000 [==============================] - 0s 18us/step - loss: 33.5737\n",
      "Epoch 19/20\n",
      "10000/10000 [==============================] - 0s 17us/step - loss: 121.8986\n",
      "Epoch 20/20\n",
      "10000/10000 [==============================] - 0s 17us/step - loss: 90.6753\n"
     ]
    },
    {
     "data": {
      "text/plain": [
       "<keras.callbacks.callbacks.History at 0x20077e7f0c8>"
      ]
     },
     "execution_count": 30,
     "metadata": {},
     "output_type": "execute_result"
    }
   ],
   "source": [
    "Height_Predictor.fit(X,y, epochs=20)"
   ]
  },
  {
   "cell_type": "code",
   "execution_count": 31,
   "metadata": {},
   "outputs": [
    {
     "data": {
      "text/plain": [
       "[array([[0.09513032]], dtype=float32), array([47.97328], dtype=float32)]"
      ]
     },
     "execution_count": 31,
     "metadata": {},
     "output_type": "execute_result"
    }
   ],
   "source": [
    "Height_Predictor.get_weights()"
   ]
  },
  {
   "cell_type": "code",
   "execution_count": null,
   "metadata": {},
   "outputs": [],
   "source": []
  }
 ],
 "metadata": {
  "kernelspec": {
   "display_name": "Python 3",
   "language": "python",
   "name": "python3"
  },
  "language_info": {
   "codemirror_mode": {
    "name": "ipython",
    "version": 3
   },
   "file_extension": ".py",
   "mimetype": "text/x-python",
   "name": "python",
   "nbconvert_exporter": "python",
   "pygments_lexer": "ipython3",
   "version": "3.7.6"
  }
 },
 "nbformat": 4,
 "nbformat_minor": 4
}
